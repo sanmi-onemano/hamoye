{
  "nbformat": 4,
  "nbformat_minor": 0,
  "metadata": {
    "colab": {
      "name": "Stage A quiz",
      "provenance": [],
      "collapsed_sections": [],
      "authorship_tag": "ABX9TyOq/bADzSl5VD9phD1OhllP",
      "include_colab_link": true
    },
    "kernelspec": {
      "name": "python3",
      "display_name": "Python 3"
    }
  },
  "cells": [
    {
      "cell_type": "markdown",
      "metadata": {
        "id": "view-in-github",
        "colab_type": "text"
      },
      "source": [
        "<a href=\"https://colab.research.google.com/github/sanmi-onemano/hamoye/blob/master/Stage_A_quiz%20by%20Oluwasanmi.ipynb\" target=\"_parent\"><img src=\"https://colab.research.google.com/assets/colab-badge.svg\" alt=\"Open In Colab\"/></a>"
      ]
    },
    {
      "cell_type": "markdown",
      "metadata": {
        "id": "elkXjBb2xwMU",
        "colab_type": "text"
      },
      "source": [
        ""
      ]
    },
    {
      "cell_type": "markdown",
      "metadata": {
        "id": "AtQjXLN3xzZP",
        "colab_type": "text"
      },
      "source": [
        "**Hamoye Stage A Quiz by Oluwasanmi Onemano**"
      ]
    },
    {
      "cell_type": "code",
      "metadata": {
        "id": "5WzMoriOxnPM",
        "colab_type": "code",
        "colab": {}
      },
      "source": [
        "# first import all necessary libraries\n",
        "import numpy as np\n",
        "import pandas as pd\n",
        "import matplotlib.pyplot as plt\n",
        "import seaborn as sns"
      ],
      "execution_count": 11,
      "outputs": []
    },
    {
      "cell_type": "code",
      "metadata": {
        "id": "Bmvi-ZBUypnm",
        "colab_type": "code",
        "colab": {
          "base_uri": "https://localhost:8080/",
          "height": 258
        },
        "outputId": "24a75334-c21b-4e62-ed1b-56da4f76354d"
      },
      "source": [
        " # import the file using pandas\n",
        " url = \"http://raw.githubusercontent.com/WalePhenomenon/climate_change/master/fuel_ferc1.csv\"\n",
        " fuel_data = pd.read_csv(url, index_col =0)\n",
        " fuel_data.head()"
      ],
      "execution_count": 7,
      "outputs": [
        {
          "output_type": "execute_result",
          "data": {
            "text/html": [
              "<div>\n",
              "<style scoped>\n",
              "    .dataframe tbody tr th:only-of-type {\n",
              "        vertical-align: middle;\n",
              "    }\n",
              "\n",
              "    .dataframe tbody tr th {\n",
              "        vertical-align: top;\n",
              "    }\n",
              "\n",
              "    .dataframe thead th {\n",
              "        text-align: right;\n",
              "    }\n",
              "</style>\n",
              "<table border=\"1\" class=\"dataframe\">\n",
              "  <thead>\n",
              "    <tr style=\"text-align: right;\">\n",
              "      <th></th>\n",
              "      <th>utility_id_ferc1</th>\n",
              "      <th>report_year</th>\n",
              "      <th>plant_name_ferc1</th>\n",
              "      <th>fuel_type_code_pudl</th>\n",
              "      <th>fuel_unit</th>\n",
              "      <th>fuel_qty_burned</th>\n",
              "      <th>fuel_mmbtu_per_unit</th>\n",
              "      <th>fuel_cost_per_unit_burned</th>\n",
              "      <th>fuel_cost_per_unit_delivered</th>\n",
              "      <th>fuel_cost_per_mmbtu</th>\n",
              "    </tr>\n",
              "    <tr>\n",
              "      <th>record_id</th>\n",
              "      <th></th>\n",
              "      <th></th>\n",
              "      <th></th>\n",
              "      <th></th>\n",
              "      <th></th>\n",
              "      <th></th>\n",
              "      <th></th>\n",
              "      <th></th>\n",
              "      <th></th>\n",
              "      <th></th>\n",
              "    </tr>\n",
              "  </thead>\n",
              "  <tbody>\n",
              "    <tr>\n",
              "      <th>f1_fuel_1994_12_1_0_7</th>\n",
              "      <td>1</td>\n",
              "      <td>1994</td>\n",
              "      <td>rockport</td>\n",
              "      <td>coal</td>\n",
              "      <td>ton</td>\n",
              "      <td>5377489.0</td>\n",
              "      <td>16.590</td>\n",
              "      <td>18.59</td>\n",
              "      <td>18.53</td>\n",
              "      <td>1.121</td>\n",
              "    </tr>\n",
              "    <tr>\n",
              "      <th>f1_fuel_1994_12_1_0_10</th>\n",
              "      <td>1</td>\n",
              "      <td>1994</td>\n",
              "      <td>rockport total plant</td>\n",
              "      <td>coal</td>\n",
              "      <td>ton</td>\n",
              "      <td>10486945.0</td>\n",
              "      <td>16.592</td>\n",
              "      <td>18.58</td>\n",
              "      <td>18.53</td>\n",
              "      <td>1.120</td>\n",
              "    </tr>\n",
              "    <tr>\n",
              "      <th>f1_fuel_1994_12_2_0_1</th>\n",
              "      <td>2</td>\n",
              "      <td>1994</td>\n",
              "      <td>gorgas</td>\n",
              "      <td>coal</td>\n",
              "      <td>ton</td>\n",
              "      <td>2978683.0</td>\n",
              "      <td>24.130</td>\n",
              "      <td>39.72</td>\n",
              "      <td>38.12</td>\n",
              "      <td>1.650</td>\n",
              "    </tr>\n",
              "    <tr>\n",
              "      <th>f1_fuel_1994_12_2_0_7</th>\n",
              "      <td>2</td>\n",
              "      <td>1994</td>\n",
              "      <td>barry</td>\n",
              "      <td>coal</td>\n",
              "      <td>ton</td>\n",
              "      <td>3739484.0</td>\n",
              "      <td>23.950</td>\n",
              "      <td>47.21</td>\n",
              "      <td>45.99</td>\n",
              "      <td>1.970</td>\n",
              "    </tr>\n",
              "    <tr>\n",
              "      <th>f1_fuel_1994_12_2_0_10</th>\n",
              "      <td>2</td>\n",
              "      <td>1994</td>\n",
              "      <td>chickasaw</td>\n",
              "      <td>gas</td>\n",
              "      <td>mcf</td>\n",
              "      <td>40533.0</td>\n",
              "      <td>1.000</td>\n",
              "      <td>2.77</td>\n",
              "      <td>2.77</td>\n",
              "      <td>2.570</td>\n",
              "    </tr>\n",
              "  </tbody>\n",
              "</table>\n",
              "</div>"
            ],
            "text/plain": [
              "                        utility_id_ferc1  ...  fuel_cost_per_mmbtu\n",
              "record_id                                 ...                     \n",
              "f1_fuel_1994_12_1_0_7                  1  ...                1.121\n",
              "f1_fuel_1994_12_1_0_10                 1  ...                1.120\n",
              "f1_fuel_1994_12_2_0_1                  2  ...                1.650\n",
              "f1_fuel_1994_12_2_0_7                  2  ...                1.970\n",
              "f1_fuel_1994_12_2_0_10                 2  ...                2.570\n",
              "\n",
              "[5 rows x 10 columns]"
            ]
          },
          "metadata": {
            "tags": []
          },
          "execution_count": 7
        }
      ]
    },
    {
      "cell_type": "markdown",
      "metadata": {
        "id": "4LSdJ2Xi6Cn9",
        "colab_type": "text"
      },
      "source": [
        "Question 1\n"
      ]
    },
    {
      "cell_type": "code",
      "metadata": {
        "id": "NhrgRRuV-Gxw",
        "colab_type": "code",
        "colab": {}
      },
      "source": [
        "# A.extend(B) is the best way to create a single list of both A and B"
      ],
      "execution_count": null,
      "outputs": []
    },
    {
      "cell_type": "markdown",
      "metadata": {
        "id": "Fkx_WuWX_BBn",
        "colab_type": "text"
      },
      "source": [
        "Question 2\n"
      ]
    },
    {
      "cell_type": "code",
      "metadata": {
        "id": "qLzk0SM8_D6a",
        "colab_type": "code",
        "colab": {
          "base_uri": "https://localhost:8080/",
          "height": 72
        },
        "outputId": "7abb609a-1fc9-41e8-e5c2-c8f2a02822de"
      },
      "source": [
        "# to create an identity matrix use\n",
        "np.identity(3)"
      ],
      "execution_count": 8,
      "outputs": [
        {
          "output_type": "execute_result",
          "data": {
            "text/plain": [
              "array([[1., 0., 0.],\n",
              "       [0., 1., 0.],\n",
              "       [0., 0., 1.]])"
            ]
          },
          "metadata": {
            "tags": []
          },
          "execution_count": 8
        }
      ]
    },
    {
      "cell_type": "markdown",
      "metadata": {
        "id": "cTRpbpUx88Gi",
        "colab_type": "text"
      },
      "source": [
        "Question 3"
      ]
    },
    {
      "cell_type": "code",
      "metadata": {
        "id": "Irky-obz9Bjj",
        "colab_type": "code",
        "colab": {}
      },
      "source": [
        "# the answer is categorical and mode imputation "
      ],
      "execution_count": null,
      "outputs": []
    },
    {
      "cell_type": "markdown",
      "metadata": {
        "id": "dASzI0ae_2jo",
        "colab_type": "text"
      },
      "source": [
        "Question 4"
      ]
    },
    {
      "cell_type": "code",
      "metadata": {
        "id": "4uj_Roid_1TU",
        "colab_type": "code",
        "colab": {
          "base_uri": "https://localhost:8080/",
          "height": 164
        },
        "outputId": "5a8b0aa1-a48e-4c63-e8a9-e8b8dc71ecae"
      },
      "source": [
        "#fuel_type_code which has the lowest average cost per unit burned\n",
        "fuel_data.groupby('fuel_type_code_pudl')['fuel_cost_per_unit_burned'].mean().sort_values()"
      ],
      "execution_count": 11,
      "outputs": [
        {
          "output_type": "execute_result",
          "data": {
            "text/plain": [
              "fuel_type_code_pudl\n",
              "gas          13.659397\n",
              "other        18.253856\n",
              "waste        19.518122\n",
              "coal         67.421830\n",
              "oil         168.877086\n",
              "nuclear    4955.157002\n",
              "Name: fuel_cost_per_unit_burned, dtype: float64"
            ]
          },
          "metadata": {
            "tags": []
          },
          "execution_count": 11
        }
      ]
    },
    {
      "cell_type": "markdown",
      "metadata": {
        "id": "_0TWOfB0E3eg",
        "colab_type": "text"
      },
      "source": [
        "Question 5\n"
      ]
    },
    {
      "cell_type": "code",
      "metadata": {
        "id": "lHgQDkjrE6On",
        "colab_type": "code",
        "colab": {
          "base_uri": "https://localhost:8080/",
          "height": 35
        },
        "outputId": "ff3942ff-0c6e-4ff2-daf3-70e0584c8106"
      },
      "source": [
        "# for the standard deviation \n",
        "standard_deviation = fuel_data['fuel_mmbtu_per_unit'].std()\n",
        "print (standard_deviation)"
      ],
      "execution_count": 15,
      "outputs": [
        {
          "output_type": "stream",
          "text": [
            "10.600220307806886\n"
          ],
          "name": "stdout"
        }
      ]
    },
    {
      "cell_type": "code",
      "metadata": {
        "id": "0uktrPdUIcWm",
        "colab_type": "code",
        "colab": {
          "base_uri": "https://localhost:8080/",
          "height": 35
        },
        "outputId": "230af16e-53de-4759-e56d-64b338a5d35e"
      },
      "source": [
        "upper_quantile = fuel_data['fuel_mmbtu_per_unit'].quantile(q= 0.75, interpolation = 'linear')\n",
        "print(upper_quantile)"
      ],
      "execution_count": 20,
      "outputs": [
        {
          "output_type": "stream",
          "text": [
            "17.006\n"
          ],
          "name": "stdout"
        }
      ]
    },
    {
      "cell_type": "markdown",
      "metadata": {
        "id": "ElaJmpTB63hI",
        "colab_type": "text"
      },
      "source": [
        "Question 6"
      ]
    },
    {
      "cell_type": "code",
      "metadata": {
        "id": "hqUIlcNu610F",
        "colab_type": "code",
        "colab": {
          "base_uri": "https://localhost:8080/",
          "height": 990
        },
        "outputId": "92271879-b4f8-43b5-9da8-897b9595d9ec"
      },
      "source": [
        "# To find the year with the highest average fuel cost per unit delivered\n",
        "fuel_data.groupby('report_year')['fuel_cost_per_unit_delivered'].mean().sort_values()"
      ],
      "execution_count": 23,
      "outputs": [
        {
          "output_type": "execute_result",
          "data": {
            "text/plain": [
              "report_year\n",
              "1999       25.551627\n",
              "1995       32.735269\n",
              "2006       38.657484\n",
              "2005       41.438184\n",
              "2007       43.325023\n",
              "2017       46.196861\n",
              "2002       47.594361\n",
              "2003       55.663493\n",
              "2008       58.588197\n",
              "2011       59.774667\n",
              "2001       60.050396\n",
              "2012       60.994502\n",
              "1994       63.636060\n",
              "2010       91.862105\n",
              "2016      103.901761\n",
              "2004      139.524275\n",
              "2013      172.307591\n",
              "2014      192.737183\n",
              "1998      287.154420\n",
              "2015      326.535511\n",
              "2018      499.269966\n",
              "2009      652.694163\n",
              "2000      985.362877\n",
              "1996     9196.705948\n",
              "1997    11140.197239\n",
              "Name: fuel_cost_per_unit_delivered, dtype: float64"
            ]
          },
          "metadata": {
            "tags": []
          },
          "execution_count": 22
        },
        {
          "output_type": "execute_result",
          "data": {
            "text/plain": [
              "report_year\n",
              "1999       25.551627\n",
              "1995       32.735269\n",
              "2006       38.657484\n",
              "2005       41.438184\n",
              "2007       43.325023\n",
              "2017       46.196861\n",
              "2002       47.594361\n",
              "2003       55.663493\n",
              "2008       58.588197\n",
              "2011       59.774667\n",
              "2001       60.050396\n",
              "2012       60.994502\n",
              "1994       63.636060\n",
              "2010       91.862105\n",
              "2016      103.901761\n",
              "2004      139.524275\n",
              "2013      172.307591\n",
              "2014      192.737183\n",
              "1998      287.154420\n",
              "2015      326.535511\n",
              "2018      499.269966\n",
              "2009      652.694163\n",
              "2000      985.362877\n",
              "1996     9196.705948\n",
              "1997    11140.197239\n",
              "Name: fuel_cost_per_unit_delivered, dtype: float64"
            ]
          },
          "metadata": {
            "tags": []
          },
          "execution_count": 23
        }
      ]
    },
    {
      "cell_type": "markdown",
      "metadata": {
        "id": "vMx3seET0dKI",
        "colab_type": "text"
      },
      "source": [
        "Question 7\n"
      ]
    },
    {
      "cell_type": "code",
      "metadata": {
        "id": "rmCVeev10cuQ",
        "colab_type": "code",
        "colab": {
          "base_uri": "https://localhost:8080/",
          "height": 219
        },
        "outputId": "a10230e9-559e-487a-f6f2-cccf5e9ac44e"
      },
      "source": [
        "#To  find the feature with missing values , total number of missing values and percentage of missing rows a a factor of the total number of rows\n",
        "fuel_data.isnull().sum()"
      ],
      "execution_count": 9,
      "outputs": [
        {
          "output_type": "execute_result",
          "data": {
            "text/plain": [
              "utility_id_ferc1                  0\n",
              "report_year                       0\n",
              "plant_name_ferc1                  0\n",
              "fuel_type_code_pudl               0\n",
              "fuel_unit                       180\n",
              "fuel_qty_burned                   0\n",
              "fuel_mmbtu_per_unit               0\n",
              "fuel_cost_per_unit_burned         0\n",
              "fuel_cost_per_unit_delivered      0\n",
              "fuel_cost_per_mmbtu               0\n",
              "dtype: int64"
            ]
          },
          "metadata": {
            "tags": []
          },
          "execution_count": 9
        }
      ]
    },
    {
      "cell_type": "code",
      "metadata": {
        "id": "TgJV0_dn2H56",
        "colab_type": "code",
        "colab": {
          "base_uri": "https://localhost:8080/",
          "height": 35
        },
        "outputId": "6d7fab08-f439-4792-cfd9-e7ae60569108"
      },
      "source": [
        "# The feature is fuel_unit and the total number of missing values is 180\n",
        "# To get the percentage of missing rows\n",
        "total_rows = fuel_data['report_year'].count()\n",
        "total_fuel_unit_row = fuel_data['fuel_unit'].count()\n",
        "missing_row= total_rows - total_fuel_unit_row\n",
        "percentage = (missing_row/total_rows)*100\n",
        "print(percentage)"
      ],
      "execution_count": 34,
      "outputs": [
        {
          "output_type": "stream",
          "text": [
            "0.609694136774718\n"
          ],
          "name": "stdout"
        }
      ]
    },
    {
      "cell_type": "markdown",
      "metadata": {
        "id": "RDdvONQJ--_6",
        "colab_type": "text"
      },
      "source": [
        "Question 8"
      ]
    },
    {
      "cell_type": "code",
      "metadata": {
        "id": "l0usQDBb_wAK",
        "colab_type": "code",
        "colab": {
          "base_uri": "https://localhost:8080/",
          "height": 35
        },
        "outputId": "a5a6a237-84ed-4505-c16f-792797adf9fd"
      },
      "source": [
        "# the skewness and Kurtosis of the Feul quantity\n",
        "fuel_data['fuel_qty_burned'].skew()"
      ],
      "execution_count": 24,
      "outputs": [
        {
          "output_type": "execute_result",
          "data": {
            "text/plain": [
              "15.851495469109503"
            ]
          },
          "metadata": {
            "tags": []
          },
          "execution_count": 24
        }
      ]
    },
    {
      "cell_type": "code",
      "metadata": {
        "id": "4PkkMIqxAhfd",
        "colab_type": "code",
        "colab": {
          "base_uri": "https://localhost:8080/",
          "height": 35
        },
        "outputId": "fc61ca9a-5af5-4e59-f0c4-1e3448e99780"
      },
      "source": [
        "fuel_data['fuel_qty_burned'].kurt()"
      ],
      "execution_count": 25,
      "outputs": [
        {
          "output_type": "execute_result",
          "data": {
            "text/plain": [
              "651.3694501337732"
            ]
          },
          "metadata": {
            "tags": []
          },
          "execution_count": 25
        }
      ]
    },
    {
      "cell_type": "markdown",
      "metadata": {
        "id": "1XyfeD-zA4vW",
        "colab_type": "text"
      },
      "source": [
        "Question 9"
      ]
    },
    {
      "cell_type": "code",
      "metadata": {
        "id": "4KqxmiXNAwcJ",
        "colab_type": "code",
        "colab": {
          "base_uri": "https://localhost:8080/",
          "height": 164
        },
        "outputId": "d11a87f2-8ef3-4806-f850-5bd9dea72520"
      },
      "source": [
        "# features with the second and third  lowest correlation\n",
        "fuel_data.corr().loc['fuel_cost_per_unit_burned'].abs().sort_values()"
      ],
      "execution_count": 28,
      "outputs": [
        {
          "output_type": "execute_result",
          "data": {
            "text/plain": [
              "fuel_cost_per_mmbtu             0.000437\n",
              "fuel_mmbtu_per_unit             0.010034\n",
              "fuel_cost_per_unit_delivered    0.011007\n",
              "report_year                     0.013599\n",
              "fuel_qty_burned                 0.018535\n",
              "utility_id_ferc1                0.037863\n",
              "fuel_cost_per_unit_burned       1.000000\n",
              "Name: fuel_cost_per_unit_burned, dtype: float64"
            ]
          },
          "metadata": {
            "tags": []
          },
          "execution_count": 28
        }
      ]
    },
    {
      "cell_type": "code",
      "metadata": {
        "id": "mqVp5KkCCpi7",
        "colab_type": "code",
        "colab": {}
      },
      "source": [
        "# the answer is fuel_mmbtu_per_unit and fuel_cost_per_unit_delivered"
      ],
      "execution_count": null,
      "outputs": []
    },
    {
      "cell_type": "markdown",
      "metadata": {
        "id": "rVmm6dTUC87Y",
        "colab_type": "text"
      },
      "source": [
        "Question 10"
      ]
    },
    {
      "cell_type": "code",
      "metadata": {
        "id": "zIVUYKBrComD",
        "colab_type": "code",
        "colab": {
          "base_uri": "https://localhost:8080/",
          "height": 256
        },
        "outputId": "3fa5c626-2952-446e-a5fb-2695c3804562"
      },
      "source": [
        "# the percentage change in the fuel cost per unit burned in 1998 compared to 1994\n",
        "total_yearly_cost = fuel_data.groupby(['report_year' , 'fuel_type_code_pudl'])['fuel_cost_per_unit_burned'].sum()\n",
        "print(total_yearly_cost)"
      ],
      "execution_count": 31,
      "outputs": [
        {
          "output_type": "stream",
          "text": [
            "report_year  fuel_type_code_pudl\n",
            "1994         coal                    14984.572\n",
            "             gas                     10792.496\n",
            "             nuclear                227983.354\n",
            "             oil                      9362.194\n",
            "             other                     116.737\n",
            "                                       ...    \n",
            "2018         coal                     9488.197\n",
            "             gas                      4322.494\n",
            "             nuclear                173267.161\n",
            "             oil                     33836.602\n",
            "             waste                     660.972\n",
            "Name: fuel_cost_per_unit_burned, Length: 148, dtype: float64\n"
          ],
          "name": "stdout"
        }
      ]
    },
    {
      "cell_type": "code",
      "metadata": {
        "id": "lNcjLEX2FUip",
        "colab_type": "code",
        "colab": {
          "base_uri": "https://localhost:8080/",
          "height": 35
        },
        "outputId": "f2f8b81a-6efd-450b-9a3a-0c2689768a5d"
      },
      "source": [
        "year_1994, year_1998 = total_yearly_cost.loc[[1994,1998], 'coal']\n",
        "change= (year_1998 - year_1994)\n",
        "percentage_change =(change/year_1994)*100\n",
        "print(percentage_change)"
      ],
      "execution_count": 33,
      "outputs": [
        {
          "output_type": "stream",
          "text": [
            "-20.56765451826049\n"
          ],
          "name": "stdout"
        }
      ]
    }
  ]
}